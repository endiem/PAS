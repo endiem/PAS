{
 "cells": [
  {
   "cell_type": "code",
   "execution_count": 1,
   "metadata": {},
   "outputs": [],
   "source": [
    "import psycopg2\n",
    "from contextlib import closing\n",
    "def prettify_result(list_of_res):\n",
    "    #print(list_of_res)\n",
    "    try:\n",
    "        return [el.strip() if type(el)==str else el for el in list_of_res]\n",
    "    except:\n",
    "        print(\"Sory,its empty\")"
   ]
  },
  {
   "cell_type": "code",
   "execution_count": 2,
   "metadata": {},
   "outputs": [
    {
     "name": "stdout",
     "output_type": "stream",
     "text": [
      "[3, None, 'Konoha', datetime.date(2020, 1, 15), datetime.date(2020, 4, 27)]\n",
      "[1, 'Maxim', 'GrandPri', datetime.date(2020, 1, 5), datetime.date(2020, 5, 30)]\n",
      "[1, 'Maxim', 'Raftel', datetime.date(2020, 1, 4), datetime.date(2020, 5, 15)]\n"
     ]
    }
   ],
   "source": [
    "with closing(psycopg2.connect(dbname=\"hotels\",user=\"postgres\", password=\"manh020598manh\")) as conn:\n",
    "    with conn.cursor() as cursor:\n",
    "        cursor.execute('select * from hotel_rooms')\n",
    "        records = cursor.fetchall()\n",
    "        for el in records:\n",
    "            print(prettify_result(el))"
   ]
  },
  {
   "cell_type": "code",
   "execution_count": 3,
   "metadata": {},
   "outputs": [
    {
     "name": "stdout",
     "output_type": "stream",
     "text": [
      "[3, None, datetime.date(2020, 4, 15), 'KLM', 'UA', 'USA']\n",
      "[2, None, datetime.date(2020, 5, 6), 'MAY', 'UK', 'UA']\n",
      "[1, 'Maxim', datetime.date(2020, 5, 14), 'US', 'USA', 'USA']\n"
     ]
    }
   ],
   "source": [
    "with closing(psycopg2.connect(dbname=\"Tickets\",user=\"postgres\", password=\"manh020598manh\")) as conn:\n",
    "    with conn.cursor() as cursor:\n",
    "        cursor.execute('select * from tickets_table')\n",
    "        records = cursor.fetchall()\n",
    "        for el in records:\n",
    "            print(prettify_result(el))"
   ]
  },
  {
   "cell_type": "code",
   "execution_count": 4,
   "metadata": {},
   "outputs": [
    {
     "name": "stdout",
     "output_type": "stream",
     "text": [
      "1\n"
     ]
    }
   ],
   "source": [
    "tickets_here = False\n",
    "departure_date = '2020-05-14'\n",
    "with closing(psycopg2.connect(dbname=\"Tickets\",user=\"postgres\", password=\"manh020598manh\")) as conn:\n",
    "    with conn.cursor() as cursor:\n",
    "        cursor.execute('select * from tickets_table')\n",
    "        cursor.execute(\"update tickets_table set client_name = 'Maxim' where id = (select id from tickets_table where client_name is not NULL and departure_date='{}' limit 1)\".format(departure_date))\n",
    "        print(cursor.rowcount)\n",
    "        if cursor.rowcount:\n",
    "            cursor.execute(\"prepare transaction 'Maxim_update_ticket'\")\n",
    "            tickets_here = True"
   ]
  },
  {
   "cell_type": "code",
   "execution_count": 5,
   "metadata": {},
   "outputs": [
    {
     "name": "stdout",
     "output_type": "stream",
     "text": [
      "2\n"
     ]
    }
   ],
   "source": [
    "hotel_here = False\n",
    "with closing(psycopg2.connect(dbname=\"hotels\",user=\"postgres\", password=\"manh020598manh\")) as conn:\n",
    "    with conn.cursor() as cursor:\n",
    "        cursor.execute(\"update hotel_rooms set client_name = 'Maxim' where id = (select id from hotel_rooms where client_name is not NULL and arrival_date < '{}' and departure_date > '{}' limit 1)\".format(departure_date,departure_date))\n",
    "        print(cursor.rowcount)\n",
    "        if cursor.rowcount:\n",
    "            cursor.execute(\"prepare transaction 'Maxim_update_room'\")\n",
    "            hotel_here = True"
   ]
  },
  {
   "cell_type": "code",
   "execution_count": 6,
   "metadata": {},
   "outputs": [
    {
     "name": "stdout",
     "output_type": "stream",
     "text": [
      "COMMITED\n",
      "COMMITED\n"
     ]
    }
   ],
   "source": [
    "if hotel_here and tickets_here:\n",
    "    with closing(psycopg2.connect(dbname=\"Tickets\",user=\"postgres\", password=\"manh020598manh\")) as conn:\n",
    "        with conn.cursor() as cursor:\n",
    "            conn.autocommit = True\n",
    "            cursor.execute(\"commit prepared 'Maxim_update_ticket'\")\n",
    "            print(\"COMMITED\")\n",
    "            \n",
    "    with closing(psycopg2.connect(dbname=\"hotels\",user=\"postgres\", password=\"manh020598manh\")) as conn:\n",
    "        with conn.cursor() as cursor:\n",
    "            conn.autocommit = True\n",
    "            cursor.execute(\"commit prepared 'Maxim_update_room'\")\n",
    "            print(\"COMMITED\")\n",
    "else:\n",
    "    with closing(psycopg2.connect(dbname=\"Tickets\",user=\"postgres\", password=\"manh020598manh\")) as conn:\n",
    "        with conn.cursor() as cursor:\n",
    "            conn.autocommit = True\n",
    "            cursor.execute(\"rollback prepared 'Maxim_update_ticket'\")\n",
    "            print(\"ROLLBACK\")\n",
    "            \n",
    "    with closing(psycopg2.connect(dbname=\"hotels\",user=\"postgres\", password=\"manh020598manh\")) as conn:\n",
    "        with conn.cursor() as cursor:\n",
    "            conn.autocommit = True\n",
    "            cursor.execute(\"rollback prepared 'Maxim_update_room'\")\n",
    "            print(\"ROLLBACK\")\n"
   ]
  }
 ],
 "metadata": {
  "file_extension": ".py",
  "kernelspec": {
   "display_name": "Python 3",
   "language": "python",
   "name": "python3"
  },
  "language_info": {
   "codemirror_mode": {
    "name": "ipython",
    "version": 3
   },
   "file_extension": ".py",
   "mimetype": "text/x-python",
   "name": "python",
   "nbconvert_exporter": "python",
   "pygments_lexer": "ipython3",
   "version": "3.7.4"
  },
  "mimetype": "text/x-python",
  "name": "python",
  "npconvert_exporter": "python",
  "pygments_lexer": "ipython3",
  "version": 3
 },
 "nbformat": 4,
 "nbformat_minor": 2
}
